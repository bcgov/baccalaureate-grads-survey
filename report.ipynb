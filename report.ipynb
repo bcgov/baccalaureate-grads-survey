{
 "cells": [
  {
   "cell_type": "code",
   "execution_count": 3,
   "metadata": {},
   "outputs": [],
   "source": [
    "import pandas as pd\n",
    "import numpy as np"
   ]
  },
  {
   "cell_type": "code",
   "execution_count": 4,
   "metadata": {},
   "outputs": [],
   "source": [
    "#SET LINK TO RAW DATA HERE\n",
    "raw_data_path = 'RAW DATA.xlsx'\n",
    "prog_data = pd.read_excel(raw_data_path)\n",
    "# get only the rows for summary table where the PROGRAM column is the institution TOTAL\n",
    "summary_data = prog_data[prog_data['PROGRAM'] == 'INST TOTAL']\n",
    "# get grand total\n",
    "grand_total = prog_data[prog_data['INST'] == 'Grand Total']\n",
    "# append grand total to end of summary data\n",
    "summary_data = pd.concat([summary_data, grand_total], ignore_index=True)\n"
   ]
  },
  {
   "cell_type": "code",
   "execution_count": 5,
   "metadata": {},
   "outputs": [],
   "source": [
    "# rename institution name of grand total rows to match inst name in raw data\n",
    "def rename_grand_total_inst_name():\n",
    "    #change the institution name to Grand total where institution is grand total in program data\n",
    "    prog_data.loc[prog_data['INST'] ==\n",
    "                  'Grand Total', 'INST_NAME'] = 'Grand Total'\n",
    "    #change the institution name to Gross response rate where institution is grand total in summary data\n",
    "    summary_data.loc[summary_data['INST'] ==\n",
    "                     'Grand Total', 'INST_NAME'] = 'Gross Response Rate'\n",
    "\n",
    "rename_grand_total_inst_name()\n"
   ]
  },
  {
   "cell_type": "code",
   "execution_count": 7,
   "metadata": {},
   "outputs": [],
   "source": [
    "# sort the by program data by institution and if a row is a total of institution numbers\n",
    "def rearrange_prog_data():\n",
    "    # add new column is_total. True if row is the institution total\n",
    "    prog_data['is_total'] = np.where(\n",
    "        prog_data['PROGRAM'] == 'INST TOTAL', True, False)\n",
    "    # add new column is_grand_total. True if row is the grand total\n",
    "    prog_data['is_grand_total'] = np.where(\n",
    "        prog_data['INST_NAME'] == 'Grand Total', True, False)\n",
    "    # sort by is_grand_total (false rows first), inst name (alphabetical order), is_total (false rows first)\n",
    "    prog_data.sort_values(\n",
    "        by=['is_grand_total', 'INST_NAME', 'is_total'], inplace=True)\n",
    "    #reset the index since the order of rows has changed\n",
    "    prog_data.reset_index(drop=True, inplace=True)\n",
    "\n",
    "rearrange_prog_data()\n"
   ]
  },
  {
   "cell_type": "code",
   "execution_count": 8,
   "metadata": {},
   "outputs": [],
   "source": [
    "# get only the columns we're interested in for the by program table\n",
    "prog_cols = [\n",
    "    'INST_NAME', 'PROGRAM', 'Gross Frame', 'Survey Completes',\n",
    "    'Gross Response Rate', 'Telephone Completes',\n",
    "    'Telephone Response Rate', 'Web Completes', 'Web Response Rate',\n",
    "    'To Reach Target', 'Cases Still in Calling Queue']\n",
    "# exclude certain columns for summary table\n",
    "summary_cols = [col for col in prog_cols if col != 'PROGRAM' and col !=\n",
    "                'To Reach Target' and col != 'Cases Still in Calling Queue']\n",
    "summary_data = summary_data[summary_cols]\n",
    "prog_data = prog_data[prog_cols]\n"
   ]
  },
  {
   "cell_type": "code",
   "execution_count": 9,
   "metadata": {},
   "outputs": [
    {
     "name": "stderr",
     "output_type": "stream",
     "text": [
      "C:\\Users\\BHARRISO\\AppData\\Local\\Temp\\ipykernel_11148\\1064090681.py:9: SettingWithCopyWarning: \n",
      "A value is trying to be set on a copy of a slice from a DataFrame\n",
      "\n",
      "See the caveats in the documentation: https://pandas.pydata.org/pandas-docs/stable/user_guide/indexing.html#returning-a-view-versus-a-copy\n",
      "  prog_data.rename(columns=prog_cols, inplace=True)\n"
     ]
    }
   ],
   "source": [
    "# rename the columns to match the ones in raw data\n",
    "def rename_cols():\n",
    "    summary_cols = {'INST_NAME': '2022 Baccalaureate Graduates Survey',\n",
    "                    'Gross Frame': '2022 Cohort',\n",
    "                    'Survey Completes': 'Total Number of Surveys',\n",
    "                    'Telephone Completes': 'Number of Telephone Surveys',\n",
    "                    'Web Completes': 'Number of Web Surveys'}\n",
    "    prog_cols = {'INST_NAME': 'Institution / Program'}\n",
    "    summary_data.rename(columns=summary_cols, inplace=True)\n",
    "    prog_data.rename(columns=prog_cols, inplace=True)\n",
    "\n",
    "rename_cols()\n"
   ]
  },
  {
   "cell_type": "code",
   "execution_count": 10,
   "metadata": {},
   "outputs": [],
   "source": [
    "writer = pd.ExcelWriter('Summary report tables.xlsx', engine='xlsxwriter')\n",
    "# write out summary data in excel, but ignore the index column\n",
    "summary_data.to_excel(writer, sheet_name='Summary', index=False)\n",
    "# get workbook and worksheet\n",
    "workbook = writer.book\n",
    "worksheet = writer.sheets['Summary']\n"
   ]
  },
  {
   "cell_type": "code",
   "execution_count": 14,
   "metadata": {},
   "outputs": [],
   "source": [
    "#autofit the width of the first column\n",
    "def adjust_first_col_width(df):\n",
    "    #get the first column\n",
    "    first_col = summary_data.iloc[0:,0]\n",
    "    #set the width as the row in the first column with the longest length\n",
    "    first_col_width = max(first_col.astype(str).map(len).max(), len(first_col))\n",
    "    #first column index in excel is zero by default\n",
    "    col_idx = 0\n",
    "    #set column width\n",
    "    worksheet.set_column(col_idx, col_idx, first_col_width)\n",
    "\n",
    "adjust_first_col_width(summary_data)\n"
   ]
  },
  {
   "cell_type": "code",
   "execution_count": 15,
   "metadata": {},
   "outputs": [],
   "source": [
    "#change the header style to match the style in raw data\n",
    "def change_header_style(df):\n",
    "    cell_format = workbook.add_format()\n",
    "    #set background and font color\n",
    "    cell_format.set_bg_color('#366092')\n",
    "    cell_format.set_font_color('white')\n",
    "    #horizontally center text\n",
    "    cell_format.set_align('center')\n",
    "    #vertically center text\n",
    "    cell_format.set_align('vcenter')\n",
    "    #wrap text\n",
    "    cell_format.set_text_wrap()\n",
    "    #bolden text\n",
    "    cell_format.set_bold()\n",
    "    #write out each header with the format set above\n",
    "    for i,col_name in enumerate(df.columns):\n",
    "        worksheet.write(0, i, col_name, cell_format)\n",
    "\n",
    "change_header_style(summary_data)"
   ]
  },
  {
   "cell_type": "code",
   "execution_count": 16,
   "metadata": {},
   "outputs": [],
   "source": [
    "# format rate columns in summary table as percentage\n",
    "def format_rates(df):\n",
    "    #get only the columns where Rate is in the column name\n",
    "    rate_cols = [col for col in df.columns if 'Rate' in col]\n",
    "    # for each column name get it's index and store it in col_index\n",
    "    col_index = [df.columns.get_loc(col) for col in rate_cols]\n",
    "    # set the format to percentage\n",
    "    format = workbook.add_format({'num_format': '0.0%'})\n",
    "    # for each column change the format to percentage\n",
    "    for ind in col_index:\n",
    "        worksheet.set_column(ind, ind, None, format)\n",
    "\n",
    "format_rates(summary_data)\n"
   ]
  },
  {
   "cell_type": "code",
   "execution_count": 17,
   "metadata": {},
   "outputs": [],
   "source": [
    "# write out by program tables into excel worksheet\n",
    "prog_data.to_excel(writer, sheet_name='By Program', index=False)\n",
    "# open by program worksheet\n",
    "worksheet = writer.sheets['By Program']\n",
    "# format rate columns in by program tables\n",
    "format_rates(prog_data)\n",
    "#autofit first column width\n",
    "adjust_first_col_width(prog_data)\n",
    "#change header style\n",
    "change_header_style(prog_data)\n"
   ]
  },
  {
   "cell_type": "code",
   "execution_count": 22,
   "metadata": {},
   "outputs": [],
   "source": [
    "def collapse_prog_data():\n",
    "    indexes = {}\n",
    "    # by default the first excel row is 2\n",
    "    starting_excel_row = 2\n",
    "    # get all schools\n",
    "    schools = summary_data['2022 Baccalaureate Graduates Survey']\n",
    "    # filter out gross response rate from list of schools\n",
    "    schools.drop(schools[schools == 'Gross Response Rate'].index, inplace=True)\n",
    "    # filter out institution total rows\n",
    "    no_totals = prog_data[prog_data['PROGRAM'] != 'INST TOTAL']\n",
    "    # for each school store all the program rows as a dictionary of index lists\n",
    "    for school in schools:\n",
    "        indexes[school] = no_totals[no_totals['Institution / Program']\n",
    "                                    == school].index.to_list()\n",
    "    # iterate over each list in dictionary\n",
    "    for idx_list in indexes.values():\n",
    "        # TODO change double loop\n",
    "        # iterate over each index in list\n",
    "        for idx in idx_list:\n",
    "            # set the row for each program index\n",
    "            row = idx + starting_excel_row - 1\n",
    "            # hide the row\n",
    "            worksheet.set_row(row, None, None, {'level': 1, 'hidden': True})\n",
    "\n",
    "\n",
    "collapse_prog_data()\n",
    "writer.save()\n"
   ]
  }
 ],
 "metadata": {
  "kernelspec": {
   "display_name": "base",
   "language": "python",
   "name": "python3"
  },
  "language_info": {
   "codemirror_mode": {
    "name": "ipython",
    "version": 3
   },
   "file_extension": ".py",
   "mimetype": "text/x-python",
   "name": "python",
   "nbconvert_exporter": "python",
   "pygments_lexer": "ipython3",
   "version": "3.9.13"
  },
  "orig_nbformat": 4,
  "vscode": {
   "interpreter": {
    "hash": "6e1cac9517e302c68159d6cfd8ce176d90110bf8ccf5e831b89cec4edd81df8a"
   }
  }
 },
 "nbformat": 4,
 "nbformat_minor": 2
}
